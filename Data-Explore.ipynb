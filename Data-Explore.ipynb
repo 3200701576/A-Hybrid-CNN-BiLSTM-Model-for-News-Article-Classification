{
 "cells": [
  {
   "cell_type": "code",
   "execution_count": 1,
   "id": "4dbd65e5",
   "metadata": {},
   "outputs": [],
   "source": [
    "# First, we import the basic packages\n",
    "import numpy as np\n",
    "import pandas as pd\n",
    "import nltk\n",
    "import matplotlib.pyplot as plt\n",
    "from datetime import datetime\n",
    "import os\n",
    "import re\n",
    "from imblearn.under_sampling import RandomUnderSampler\n",
    "# Next, we import some methods from NLTK\n",
    "from nltk.stem import WordNetLemmatizer\n",
    "from nltk.corpus import stopwords\n",
    "# Next, we import some methods from Scikit-Learn\n",
    "from sklearn.preprocessing import StandardScaler\n",
    "from sklearn.preprocessing import LabelEncoder\n",
    "from sklearn.preprocessing import OneHotEncoder\n",
    "from sklearn.model_selection import train_test_split\n",
    "from sklearn.model_selection import GridSearchCV\n",
    "from sklearn.datasets import make_classification\n",
    "from sklearn.utils.class_weight import compute_class_weight\n",
    "from sklearn.metrics import confusion_matrix, precision_recall_curve, classification_report\n",
    "# Finally, we import all of the TensorFlow methods\n",
    "import tensorflow as tf\n",
    "from keras import regularizers\n",
    "from keras.callbacks import EarlyStopping\n",
    "from keras.wrappers.scikit_learn import KerasClassifier\n",
    "from tensorflow.keras.preprocessing.text import Tokenizer\n",
    "from tensorflow.keras.utils import to_categorical\n",
    "from tensorflow.keras.preprocessing.sequence import pad_sequences\n",
    "from tensorflow.keras.preprocessing import sequence\n",
    "from tensorflow.keras.layers.experimental.preprocessing import TextVectorization\n",
    "from tensorflow.keras import layers\n",
    "from tensorflow.keras.layers import Activation, Conv1D, GlobalMaxPooling1D, GlobalAveragePooling1D, LSTM, SimpleRNN\n",
    "from tensorflow.keras.layers import Embedding\n",
    "from tensorflow.keras.layers import Flatten\n",
    "from tensorflow.keras.layers import LSTM, Dense, Dropout\n",
    "from tensorflow.keras.models import Sequential"
   ]
  },
  {
   "cell_type": "code",
   "execution_count": 2,
   "id": "004c2663",
   "metadata": {},
   "outputs": [],
   "source": [
    "df = pd.read_csv(\"./data/data.csv\").dropna()"
   ]
  },
  {
   "cell_type": "code",
   "execution_count": 3,
   "id": "33f98945",
   "metadata": {},
   "outputs": [],
   "source": [
    "# We set a random seed for reproducibility purposes\n",
    "np.random.seed(38)\n",
    "# Take a sample of the original data\n",
    "df = df.sample(frac=1)"
   ]
  },
  {
   "cell_type": "code",
   "execution_count": 4,
   "id": "298c62a9",
   "metadata": {
    "scrolled": true
   },
   "outputs": [
    {
     "data": {
      "text/html": [
       "<div>\n",
       "<style scoped>\n",
       "    .dataframe tbody tr th:only-of-type {\n",
       "        vertical-align: middle;\n",
       "    }\n",
       "\n",
       "    .dataframe tbody tr th {\n",
       "        vertical-align: top;\n",
       "    }\n",
       "\n",
       "    .dataframe thead th {\n",
       "        text-align: right;\n",
       "    }\n",
       "</style>\n",
       "<table border=\"1\" class=\"dataframe\">\n",
       "  <thead>\n",
       "    <tr style=\"text-align: right;\">\n",
       "      <th></th>\n",
       "      <th>Class Index</th>\n",
       "      <th>Title</th>\n",
       "      <th>Description</th>\n",
       "    </tr>\n",
       "  </thead>\n",
       "  <tbody>\n",
       "    <tr>\n",
       "      <th>37357</th>\n",
       "      <td>2</td>\n",
       "      <td>Mystics Make Surprising Run to Playoffs (AP)</td>\n",
       "      <td>AP - Throughout the WNBA, the question this we...</td>\n",
       "    </tr>\n",
       "    <tr>\n",
       "      <th>10885</th>\n",
       "      <td>3</td>\n",
       "      <td>Nasdaq chief comments on NYSE controversey</td>\n",
       "      <td>HOUSTON -- The New York Stock Exchange could h...</td>\n",
       "    </tr>\n",
       "    <tr>\n",
       "      <th>30383</th>\n",
       "      <td>4</td>\n",
       "      <td>Take A Sniff It #39;s The Nose Mouse</td>\n",
       "      <td>An inventor from Canada has developed a comput...</td>\n",
       "    </tr>\n",
       "    <tr>\n",
       "      <th>53895</th>\n",
       "      <td>2</td>\n",
       "      <td>Mansell Into British Grand Prix</td>\n",
       "      <td>The latest personality to pile into the situat...</td>\n",
       "    </tr>\n",
       "    <tr>\n",
       "      <th>114058</th>\n",
       "      <td>2</td>\n",
       "      <td>Defense delivers late for San Diego</td>\n",
       "      <td>SAN DIEGO -- LaDainian Tomlinson and Drew Bree...</td>\n",
       "    </tr>\n",
       "  </tbody>\n",
       "</table>\n",
       "</div>"
      ],
      "text/plain": [
       "        Class Index                                         Title  \\\n",
       "37357             2  Mystics Make Surprising Run to Playoffs (AP)   \n",
       "10885             3    Nasdaq chief comments on NYSE controversey   \n",
       "30383             4          Take A Sniff It #39;s The Nose Mouse   \n",
       "53895             2               Mansell Into British Grand Prix   \n",
       "114058            2           Defense delivers late for San Diego   \n",
       "\n",
       "                                              Description  \n",
       "37357   AP - Throughout the WNBA, the question this we...  \n",
       "10885   HOUSTON -- The New York Stock Exchange could h...  \n",
       "30383   An inventor from Canada has developed a comput...  \n",
       "53895   The latest personality to pile into the situat...  \n",
       "114058  SAN DIEGO -- LaDainian Tomlinson and Drew Bree...  "
      ]
     },
     "execution_count": 4,
     "metadata": {},
     "output_type": "execute_result"
    }
   ],
   "source": [
    "pd.set_option('display.max_columns', None)\n",
    "df.head()"
   ]
  },
  {
   "cell_type": "code",
   "execution_count": 5,
   "id": "5b59c863",
   "metadata": {},
   "outputs": [
    {
     "name": "stdout",
     "output_type": "stream",
     "text": [
      "<class 'pandas.core.frame.DataFrame'>\n",
      "Index: 120000 entries, 37357 to 32161\n",
      "Data columns (total 3 columns):\n",
      " #   Column       Non-Null Count   Dtype \n",
      "---  ------       --------------   ----- \n",
      " 0   Class Index  120000 non-null  int64 \n",
      " 1   Title        120000 non-null  object\n",
      " 2   Description  120000 non-null  object\n",
      "dtypes: int64(1), object(2)\n",
      "memory usage: 3.7+ MB\n"
     ]
    }
   ],
   "source": [
    "df.info()"
   ]
  },
  {
   "cell_type": "code",
   "execution_count": 6,
   "id": "bb26a62f",
   "metadata": {},
   "outputs": [
    {
     "data": {
      "text/plain": [
       "Class Index    0\n",
       "Title          0\n",
       "Description    0\n",
       "dtype: int64"
      ]
     },
     "execution_count": 6,
     "metadata": {},
     "output_type": "execute_result"
    }
   ],
   "source": [
    "df.isnull().sum()"
   ]
  },
  {
   "cell_type": "code",
   "execution_count": 7,
   "id": "2c146926",
   "metadata": {},
   "outputs": [
    {
     "data": {
      "text/plain": [
       "Class Index         4\n",
       "Title          114350\n",
       "Description    118723\n",
       "dtype: int64"
      ]
     },
     "execution_count": 7,
     "metadata": {},
     "output_type": "execute_result"
    }
   ],
   "source": [
    "df.nunique()"
   ]
  },
  {
   "cell_type": "code",
   "execution_count": 8,
   "id": "6def5606",
   "metadata": {},
   "outputs": [
    {
     "data": {
      "text/html": [
       "<div>\n",
       "<style scoped>\n",
       "    .dataframe tbody tr th:only-of-type {\n",
       "        vertical-align: middle;\n",
       "    }\n",
       "\n",
       "    .dataframe tbody tr th {\n",
       "        vertical-align: top;\n",
       "    }\n",
       "\n",
       "    .dataframe thead th {\n",
       "        text-align: right;\n",
       "    }\n",
       "</style>\n",
       "<table border=\"1\" class=\"dataframe\">\n",
       "  <thead>\n",
       "    <tr style=\"text-align: right;\">\n",
       "      <th></th>\n",
       "      <th>Class Index</th>\n",
       "      <th>Title</th>\n",
       "      <th>Description</th>\n",
       "    </tr>\n",
       "  </thead>\n",
       "  <tbody>\n",
       "    <tr>\n",
       "      <th>37357</th>\n",
       "      <td>2</td>\n",
       "      <td>Mystics Make Surprising Run to Playoffs (AP)</td>\n",
       "      <td>AP - Throughout the WNBA, the question this we...</td>\n",
       "    </tr>\n",
       "    <tr>\n",
       "      <th>10885</th>\n",
       "      <td>3</td>\n",
       "      <td>Nasdaq chief comments on NYSE controversey</td>\n",
       "      <td>HOUSTON -- The New York Stock Exchange could h...</td>\n",
       "    </tr>\n",
       "    <tr>\n",
       "      <th>30383</th>\n",
       "      <td>4</td>\n",
       "      <td>Take A Sniff It #39;s The Nose Mouse</td>\n",
       "      <td>An inventor from Canada has developed a comput...</td>\n",
       "    </tr>\n",
       "    <tr>\n",
       "      <th>53895</th>\n",
       "      <td>2</td>\n",
       "      <td>Mansell Into British Grand Prix</td>\n",
       "      <td>The latest personality to pile into the situat...</td>\n",
       "    </tr>\n",
       "    <tr>\n",
       "      <th>114058</th>\n",
       "      <td>2</td>\n",
       "      <td>Defense delivers late for San Diego</td>\n",
       "      <td>SAN DIEGO -- LaDainian Tomlinson and Drew Bree...</td>\n",
       "    </tr>\n",
       "  </tbody>\n",
       "</table>\n",
       "</div>"
      ],
      "text/plain": [
       "        Class Index                                         Title  \\\n",
       "37357             2  Mystics Make Surprising Run to Playoffs (AP)   \n",
       "10885             3    Nasdaq chief comments on NYSE controversey   \n",
       "30383             4          Take A Sniff It #39;s The Nose Mouse   \n",
       "53895             2               Mansell Into British Grand Prix   \n",
       "114058            2           Defense delivers late for San Diego   \n",
       "\n",
       "                                              Description  \n",
       "37357   AP - Throughout the WNBA, the question this we...  \n",
       "10885   HOUSTON -- The New York Stock Exchange could h...  \n",
       "30383   An inventor from Canada has developed a comput...  \n",
       "53895   The latest personality to pile into the situat...  \n",
       "114058  SAN DIEGO -- LaDainian Tomlinson and Drew Bree...  "
      ]
     },
     "execution_count": 8,
     "metadata": {},
     "output_type": "execute_result"
    }
   ],
   "source": [
    "df.head()"
   ]
  },
  {
   "cell_type": "code",
   "execution_count": 9,
   "id": "6326f8e6",
   "metadata": {},
   "outputs": [
    {
     "name": "stdout",
     "output_type": "stream",
     "text": [
      "120000\n"
     ]
    }
   ],
   "source": [
    "print(len(df))"
   ]
  },
  {
   "cell_type": "code",
   "execution_count": 10,
   "id": "71438ee4",
   "metadata": {},
   "outputs": [
    {
     "name": "stdout",
     "output_type": "stream",
     "text": [
      "120000\n"
     ]
    }
   ],
   "source": [
    "df = df.drop_duplicates()\n",
    "print(len(df))"
   ]
  },
  {
   "cell_type": "code",
   "execution_count": 11,
   "id": "ee868f2c",
   "metadata": {},
   "outputs": [],
   "source": [
    "#nltk.download('wordnet')\n",
    "# Set the English stop words\n",
    "stop_words = set([\"a\", \"about\", \"above\", \"after\", \"again\", \"against\", \"all\", \"am\", \"an\", \"and\", \"any\", \"are\", \"as\", \"at\", \"be\", \"because\", \"been\", \"before\", \"being\", \"below\", \"between\", \"both\", \"but\", \"by\", \"could\", \"did\", \"do\", \"does\", \"doing\", \"down\", \"during\", \"each\", \"few\", \"for\", \"from\", \"further\", \"had\", \"has\", \"have\", \"having\", \"he\", \"he'd\", \"he'll\", \"he's\", \"her\", \"here\", \"here's\", \"hers\", \"herself\", \"him\", \"himself\", \"his\", \"how\", \"how's\", \"i\", \"i'd\", \"i'll\", \"i'm\", \"i've\", \"if\", \"in\", \"into\", \"is\", \"it\", \"it's\", \"its\", \"itself\", \"let's\", \"me\", \"more\", \"most\", \"my\", \"myself\", \"nor\", \"of\", \"on\", \"once\", \"only\", \"or\", \"other\", \"ought\", \"our\", \"ours\", \"ourselves\", \"out\", \"over\", \"own\", \"same\", \"she\", \"she'd\", \"she'll\", \"she's\", \"should\", \"so\", \"some\", \"such\", \"than\", \"that\", \"that's\", \"the\", \"their\", \"theirs\", \"them\", \"themselves\", \"then\", \"there\", \"there's\", \"these\", \"they\", \"they'd\", \"they'll\", \"they're\", \"they've\", \"this\", \"those\", \"through\", \"to\", \"too\", \"under\", \"until\", \"up\", \"very\", \"was\", \"we\", \"we'd\", \"we'll\", \"we're\", \"we've\", \"were\", \"what\", \"what's\", \"when\", \"when's\", \"where\", \"where's\", \"which\", \"while\", \"who\", \"who's\", \"whom\", \"why\", \"why's\", \"with\", \"would\", \"you\", \"you'd\", \"you'll\", \"you're\", \"you've\", \"your\", \"yours\", \"yourself\", \"yourselves\"])\n",
    "\n",
    "# Create a function to turn all the text to lower case, and perform tokenisation and lemmatisation\n",
    "def clean_text(text):\n",
    "    text = re.sub(r'[^\\w\\s]','',text, re.UNICODE)\n",
    "    text = text.lower()\n",
    "    text = [word for word in text if not word in stop_words]\n",
    "    text = \"\".join(text)\n",
    "    return text\n",
    "\n",
    "\n",
    "# Create a new column with the cleaned text, let's simply call it content\n",
    "df['Title'] = df['Title'].apply(lambda x: clean_text(x))\n",
    "df['Description'] = df['Description'].apply(lambda x: clean_text(x))\n"
   ]
  },
  {
   "cell_type": "code",
   "execution_count": 12,
   "id": "affa4fd0",
   "metadata": {},
   "outputs": [
    {
     "data": {
      "text/html": [
       "<div>\n",
       "<style scoped>\n",
       "    .dataframe tbody tr th:only-of-type {\n",
       "        vertical-align: middle;\n",
       "    }\n",
       "\n",
       "    .dataframe tbody tr th {\n",
       "        vertical-align: top;\n",
       "    }\n",
       "\n",
       "    .dataframe thead th {\n",
       "        text-align: right;\n",
       "    }\n",
       "</style>\n",
       "<table border=\"1\" class=\"dataframe\">\n",
       "  <thead>\n",
       "    <tr style=\"text-align: right;\">\n",
       "      <th></th>\n",
       "      <th>Class Index</th>\n",
       "      <th>Title</th>\n",
       "      <th>Description</th>\n",
       "    </tr>\n",
       "  </thead>\n",
       "  <tbody>\n",
       "    <tr>\n",
       "      <th>37357</th>\n",
       "      <td>2</td>\n",
       "      <td>mystcs mke surprsng run to plyoffs p</td>\n",
       "      <td>p  throughout the wnb the queston ths week hs ...</td>\n",
       "    </tr>\n",
       "    <tr>\n",
       "      <th>10885</th>\n",
       "      <td>3</td>\n",
       "      <td>nsdq chef comments on nyse controversey</td>\n",
       "      <td>houston  the new york stock exchnge could hve ...</td>\n",
       "    </tr>\n",
       "    <tr>\n",
       "      <th>30383</th>\n",
       "      <td>4</td>\n",
       "      <td>tke  snff t 39s the nose mouse</td>\n",
       "      <td>n nventor from cnd hs developed  computer mous...</td>\n",
       "    </tr>\n",
       "    <tr>\n",
       "      <th>53895</th>\n",
       "      <td>2</td>\n",
       "      <td>mnsell nto brtsh grnd prx</td>\n",
       "      <td>the ltest personlty to ple nto the stuton conc...</td>\n",
       "    </tr>\n",
       "    <tr>\n",
       "      <th>114058</th>\n",
       "      <td>2</td>\n",
       "      <td>defense delvers lte for sn dego</td>\n",
       "      <td>sn dego  ldnn tomlnson nd drew brees rent the ...</td>\n",
       "    </tr>\n",
       "  </tbody>\n",
       "</table>\n",
       "</div>"
      ],
      "text/plain": [
       "        Class Index                                    Title  \\\n",
       "37357             2     mystcs mke surprsng run to plyoffs p   \n",
       "10885             3  nsdq chef comments on nyse controversey   \n",
       "30383             4           tke  snff t 39s the nose mouse   \n",
       "53895             2                mnsell nto brtsh grnd prx   \n",
       "114058            2          defense delvers lte for sn dego   \n",
       "\n",
       "                                              Description  \n",
       "37357   p  throughout the wnb the queston ths week hs ...  \n",
       "10885   houston  the new york stock exchnge could hve ...  \n",
       "30383   n nventor from cnd hs developed  computer mous...  \n",
       "53895   the ltest personlty to ple nto the stuton conc...  \n",
       "114058  sn dego  ldnn tomlnson nd drew brees rent the ...  "
      ]
     },
     "execution_count": 12,
     "metadata": {},
     "output_type": "execute_result"
    }
   ],
   "source": [
    "df.head()"
   ]
  },
  {
   "cell_type": "code",
   "execution_count": 13,
   "id": "528d5c6e",
   "metadata": {},
   "outputs": [],
   "source": [
    "df['Content'] = df['Title'] + ' ' + df['Description']"
   ]
  },
  {
   "cell_type": "code",
   "execution_count": 14,
   "id": "af63a859",
   "metadata": {},
   "outputs": [
    {
     "data": {
      "text/html": [
       "<div>\n",
       "<style scoped>\n",
       "    .dataframe tbody tr th:only-of-type {\n",
       "        vertical-align: middle;\n",
       "    }\n",
       "\n",
       "    .dataframe tbody tr th {\n",
       "        vertical-align: top;\n",
       "    }\n",
       "\n",
       "    .dataframe thead th {\n",
       "        text-align: right;\n",
       "    }\n",
       "</style>\n",
       "<table border=\"1\" class=\"dataframe\">\n",
       "  <thead>\n",
       "    <tr style=\"text-align: right;\">\n",
       "      <th></th>\n",
       "      <th>Class Index</th>\n",
       "      <th>Title</th>\n",
       "      <th>Description</th>\n",
       "      <th>Content</th>\n",
       "    </tr>\n",
       "  </thead>\n",
       "  <tbody>\n",
       "    <tr>\n",
       "      <th>37357</th>\n",
       "      <td>2</td>\n",
       "      <td>mystcs mke surprsng run to plyoffs p</td>\n",
       "      <td>p  throughout the wnb the queston ths week hs ...</td>\n",
       "      <td>mystcs mke surprsng run to plyoffs p p  throug...</td>\n",
       "    </tr>\n",
       "    <tr>\n",
       "      <th>10885</th>\n",
       "      <td>3</td>\n",
       "      <td>nsdq chef comments on nyse controversey</td>\n",
       "      <td>houston  the new york stock exchnge could hve ...</td>\n",
       "      <td>nsdq chef comments on nyse controversey housto...</td>\n",
       "    </tr>\n",
       "    <tr>\n",
       "      <th>30383</th>\n",
       "      <td>4</td>\n",
       "      <td>tke  snff t 39s the nose mouse</td>\n",
       "      <td>n nventor from cnd hs developed  computer mous...</td>\n",
       "      <td>tke  snff t 39s the nose mouse n nventor from ...</td>\n",
       "    </tr>\n",
       "    <tr>\n",
       "      <th>53895</th>\n",
       "      <td>2</td>\n",
       "      <td>mnsell nto brtsh grnd prx</td>\n",
       "      <td>the ltest personlty to ple nto the stuton conc...</td>\n",
       "      <td>mnsell nto brtsh grnd prx the ltest personlty ...</td>\n",
       "    </tr>\n",
       "    <tr>\n",
       "      <th>114058</th>\n",
       "      <td>2</td>\n",
       "      <td>defense delvers lte for sn dego</td>\n",
       "      <td>sn dego  ldnn tomlnson nd drew brees rent the ...</td>\n",
       "      <td>defense delvers lte for sn dego sn dego  ldnn ...</td>\n",
       "    </tr>\n",
       "  </tbody>\n",
       "</table>\n",
       "</div>"
      ],
      "text/plain": [
       "        Class Index                                    Title  \\\n",
       "37357             2     mystcs mke surprsng run to plyoffs p   \n",
       "10885             3  nsdq chef comments on nyse controversey   \n",
       "30383             4           tke  snff t 39s the nose mouse   \n",
       "53895             2                mnsell nto brtsh grnd prx   \n",
       "114058            2          defense delvers lte for sn dego   \n",
       "\n",
       "                                              Description  \\\n",
       "37357   p  throughout the wnb the queston ths week hs ...   \n",
       "10885   houston  the new york stock exchnge could hve ...   \n",
       "30383   n nventor from cnd hs developed  computer mous...   \n",
       "53895   the ltest personlty to ple nto the stuton conc...   \n",
       "114058  sn dego  ldnn tomlnson nd drew brees rent the ...   \n",
       "\n",
       "                                                  Content  \n",
       "37357   mystcs mke surprsng run to plyoffs p p  throug...  \n",
       "10885   nsdq chef comments on nyse controversey housto...  \n",
       "30383   tke  snff t 39s the nose mouse n nventor from ...  \n",
       "53895   mnsell nto brtsh grnd prx the ltest personlty ...  \n",
       "114058  defense delvers lte for sn dego sn dego  ldnn ...  "
      ]
     },
     "execution_count": 14,
     "metadata": {},
     "output_type": "execute_result"
    }
   ],
   "source": [
    "df.head()"
   ]
  },
  {
   "cell_type": "code",
   "execution_count": 15,
   "id": "ef0df306",
   "metadata": {},
   "outputs": [],
   "source": [
    "# We'll just set X to be equivalent to the dataframe including only the content\n",
    "X = df.drop(['Class Index','Title','Description'], axis=1)"
   ]
  },
  {
   "cell_type": "code",
   "execution_count": 16,
   "id": "e015c467",
   "metadata": {},
   "outputs": [
    {
     "name": "stdout",
     "output_type": "stream",
     "text": [
      "(120000, 1)\n"
     ]
    }
   ],
   "source": [
    "# Print the shape of X\n",
    "print(X.shape)"
   ]
  },
  {
   "cell_type": "code",
   "execution_count": 17,
   "id": "7ebf00ff",
   "metadata": {},
   "outputs": [
    {
     "name": "stdout",
     "output_type": "stream",
     "text": [
      "<class 'pandas.core.frame.DataFrame'>\n"
     ]
    }
   ],
   "source": [
    "# Print the type of X, which should be a dataframe\n",
    "print(type(X))"
   ]
  },
  {
   "cell_type": "code",
   "execution_count": 18,
   "id": "cbb021bb",
   "metadata": {},
   "outputs": [
    {
     "name": "stdout",
     "output_type": "stream",
     "text": [
      "                                                  Content\n",
      "37357   mystcs mke surprsng run to plyoffs p p  throug...\n",
      "10885   nsdq chef comments on nyse controversey housto...\n",
      "30383   tke  snff t 39s the nose mouse n nventor from ...\n",
      "53895   mnsell nto brtsh grnd prx the ltest personlty ...\n",
      "114058  defense delvers lte for sn dego sn dego  ldnn ...\n",
      "...                                                   ...\n",
      "69948   mrchers demnd fr ukrne poll tens of thousnds m...\n",
      "79315   orcle rses ts hostle offer for peoplesoft orcl...\n",
      "118837  ths weekend on tv rdo tody pro bsketbll 730 pm...\n",
      "28491   srel troops rd nblus jenn kll 11 plestnns ples...\n",
      "32161   returns l voters bck gymrrge bn new orlens  er...\n",
      "\n",
      "[120000 rows x 1 columns]\n"
     ]
    }
   ],
   "source": [
    "print(X)"
   ]
  },
  {
   "cell_type": "code",
   "execution_count": 19,
   "id": "669a7a9d",
   "metadata": {},
   "outputs": [
    {
     "data": {
      "text/html": [
       "<div>\n",
       "<style scoped>\n",
       "    .dataframe tbody tr th:only-of-type {\n",
       "        vertical-align: middle;\n",
       "    }\n",
       "\n",
       "    .dataframe tbody tr th {\n",
       "        vertical-align: top;\n",
       "    }\n",
       "\n",
       "    .dataframe thead th {\n",
       "        text-align: right;\n",
       "    }\n",
       "</style>\n",
       "<table border=\"1\" class=\"dataframe\">\n",
       "  <thead>\n",
       "    <tr style=\"text-align: right;\">\n",
       "      <th></th>\n",
       "      <th>Content</th>\n",
       "    </tr>\n",
       "  </thead>\n",
       "  <tbody>\n",
       "    <tr>\n",
       "      <th>37357</th>\n",
       "      <td>mystcs mke surprsng run to plyoffs p p  throug...</td>\n",
       "    </tr>\n",
       "    <tr>\n",
       "      <th>10885</th>\n",
       "      <td>nsdq chef comments on nyse controversey housto...</td>\n",
       "    </tr>\n",
       "    <tr>\n",
       "      <th>30383</th>\n",
       "      <td>tke  snff t 39s the nose mouse n nventor from ...</td>\n",
       "    </tr>\n",
       "    <tr>\n",
       "      <th>53895</th>\n",
       "      <td>mnsell nto brtsh grnd prx the ltest personlty ...</td>\n",
       "    </tr>\n",
       "    <tr>\n",
       "      <th>114058</th>\n",
       "      <td>defense delvers lte for sn dego sn dego  ldnn ...</td>\n",
       "    </tr>\n",
       "  </tbody>\n",
       "</table>\n",
       "</div>"
      ],
      "text/plain": [
       "                                                  Content\n",
       "37357   mystcs mke surprsng run to plyoffs p p  throug...\n",
       "10885   nsdq chef comments on nyse controversey housto...\n",
       "30383   tke  snff t 39s the nose mouse n nventor from ...\n",
       "53895   mnsell nto brtsh grnd prx the ltest personlty ...\n",
       "114058  defense delvers lte for sn dego sn dego  ldnn ..."
      ]
     },
     "execution_count": 19,
     "metadata": {},
     "output_type": "execute_result"
    }
   ],
   "source": [
    "X.head()"
   ]
  },
  {
   "cell_type": "code",
   "execution_count": 20,
   "id": "b335220a",
   "metadata": {},
   "outputs": [],
   "source": [
    "# We'll set y to be the vector of labels\n",
    "y = df['Class Index']"
   ]
  },
  {
   "cell_type": "code",
   "execution_count": 21,
   "id": "12cc7afb",
   "metadata": {},
   "outputs": [
    {
     "name": "stdout",
     "output_type": "stream",
     "text": [
      "(120000,)\n"
     ]
    }
   ],
   "source": [
    "# Print the shape of y\n",
    "print(y.shape)"
   ]
  },
  {
   "cell_type": "code",
   "execution_count": 22,
   "id": "bb447946",
   "metadata": {},
   "outputs": [
    {
     "name": "stdout",
     "output_type": "stream",
     "text": [
      "<class 'pandas.core.series.Series'>\n"
     ]
    }
   ],
   "source": [
    "# Print the type of y, which should be a series\n",
    "print(type(y))"
   ]
  },
  {
   "cell_type": "code",
   "execution_count": 23,
   "id": "d4e4c32a",
   "metadata": {},
   "outputs": [
    {
     "name": "stdout",
     "output_type": "stream",
     "text": [
      "37357     2\n",
      "10885     3\n",
      "30383     4\n",
      "53895     2\n",
      "114058    2\n",
      "         ..\n",
      "69948     1\n",
      "79315     3\n",
      "118837    2\n",
      "28491     1\n",
      "32161     1\n",
      "Name: Class Index, Length: 120000, dtype: int64\n"
     ]
    }
   ],
   "source": [
    "print(y)"
   ]
  },
  {
   "cell_type": "code",
   "execution_count": 24,
   "id": "e8551ee9",
   "metadata": {},
   "outputs": [
    {
     "name": "stdout",
     "output_type": "stream",
     "text": [
      "[1 2 3 4] [30000 30000 30000 30000]\n"
     ]
    }
   ],
   "source": [
    "# Get the unique elements and their counts\n",
    "unique_elements, counts = np.unique(y, return_counts=True)\n",
    "\n",
    "# Sort the counts in descending order and get the top 15\n",
    "sort_indices = np.argsort(-counts)\n",
    "top_elements = unique_elements[sort_indices][:30]\n",
    "top_counts = counts[sort_indices][:30]\n",
    "\n",
    "print(top_elements, top_counts)"
   ]
  },
  {
   "cell_type": "code",
   "execution_count": 25,
   "id": "db7eb77f",
   "metadata": {},
   "outputs": [],
   "source": [
    "# Initialise the label encoder\n",
    "le = LabelEncoder()\n",
    "\n",
    "# Fit the label encoder to the data and transform the data\n",
    "y = le.fit_transform(y)"
   ]
  },
  {
   "cell_type": "code",
   "execution_count": 26,
   "id": "bd17c449",
   "metadata": {},
   "outputs": [
    {
     "name": "stdout",
     "output_type": "stream",
     "text": [
      "Unique labels: [1 2 3 4]\n",
      "Encoded values: [0 1 2 3]\n"
     ]
    }
   ],
   "source": [
    "# Get the labels and their encoded values\n",
    "labels = le.classes_\n",
    "values = le.transform(labels)\n",
    "\n",
    "# Print the labels and their encoded values\n",
    "print(\"Unique labels:\", labels)\n",
    "print(\"Encoded values:\", values)"
   ]
  },
  {
   "cell_type": "code",
   "execution_count": 27,
   "id": "4cd7d861",
   "metadata": {},
   "outputs": [
    {
     "name": "stdout",
     "output_type": "stream",
     "text": [
      "(120000,)\n"
     ]
    }
   ],
   "source": [
    "print(y.shape)"
   ]
  },
  {
   "cell_type": "code",
   "execution_count": 28,
   "id": "ee497fc6",
   "metadata": {},
   "outputs": [
    {
     "name": "stdout",
     "output_type": "stream",
     "text": [
      "<class 'numpy.ndarray'>\n"
     ]
    }
   ],
   "source": [
    "# Now, y should be a NumPy array\n",
    "print(type(y))"
   ]
  },
  {
   "cell_type": "code",
   "execution_count": 29,
   "id": "2c482b3d",
   "metadata": {},
   "outputs": [
    {
     "name": "stdout",
     "output_type": "stream",
     "text": [
      "[1 2 3 ... 1 0 0]\n"
     ]
    }
   ],
   "source": [
    "print(y)"
   ]
  },
  {
   "cell_type": "code",
   "execution_count": 30,
   "id": "2e04780f",
   "metadata": {},
   "outputs": [],
   "source": [
    "X_train, X_test, y_train, y_test = train_test_split(X, y, test_size=0.1, stratify=y, random_state=42)\n",
    "X_train, X_val, y_train, y_val = train_test_split(X_train, y_train, test_size=0.1, stratify=y_train, random_state=42)"
   ]
  },
  {
   "cell_type": "code",
   "execution_count": 31,
   "id": "13ba25bf",
   "metadata": {},
   "outputs": [
    {
     "name": "stdout",
     "output_type": "stream",
     "text": [
      "The length of X_train is: 97200\n",
      "The length of X_val is: 10800\n",
      "The length of X_test is: 12000\n"
     ]
    }
   ],
   "source": [
    "print(f\"The length of X_train is:\", len(X_train))\n",
    "print(f\"The length of X_val is:\", len(X_val))\n",
    "print(f\"The length of X_test is:\", len(X_test))"
   ]
  },
  {
   "cell_type": "code",
   "execution_count": 32,
   "id": "4e9b9c56",
   "metadata": {},
   "outputs": [
    {
     "name": "stdout",
     "output_type": "stream",
     "text": [
      "The length of y_train is: 97200\n",
      "The length of y_val is: 10800\n",
      "The length of y_test is: 12000\n"
     ]
    }
   ],
   "source": [
    "print(f\"The length of y_train is:\", len(y_train))\n",
    "print(f\"The length of y_val is:\", len(y_val))\n",
    "print(f\"The length of y_test is:\", len(y_test))"
   ]
  },
  {
   "cell_type": "code",
   "execution_count": 33,
   "id": "cd740caf",
   "metadata": {},
   "outputs": [
    {
     "name": "stdout",
     "output_type": "stream",
     "text": [
      "The number of unique labels in the y_train set is: 4\n",
      "The number of unique labels in the y_val set is: 4\n",
      "The number of unique labels in the y_test set is: 4\n"
     ]
    }
   ],
   "source": [
    "unique_vals_ytrain = np.unique(y_train)\n",
    "unique_vals_yval = np.unique(y_val)\n",
    "unique_vals_ytest = np.unique(y_test)\n",
    "print(f\"The number of unique labels in the y_train set is:\", len(unique_vals_ytrain))\n",
    "print(f\"The number of unique labels in the y_val set is:\", len(unique_vals_yval))\n",
    "print(f\"The number of unique labels in the y_test set is:\", len(unique_vals_ytest))"
   ]
  },
  {
   "cell_type": "code",
   "execution_count": 34,
   "id": "de1e377d",
   "metadata": {},
   "outputs": [
    {
     "name": "stdout",
     "output_type": "stream",
     "text": [
      "The number of output labels is: 4\n"
     ]
    }
   ],
   "source": [
    "num_labels = len(unique_vals_ytrain)\n",
    "print(f\"The number of output labels is: {num_labels}\")"
   ]
  },
  {
   "cell_type": "code",
   "execution_count": 35,
   "id": "66245cbe",
   "metadata": {},
   "outputs": [
    {
     "name": "stdout",
     "output_type": "stream",
     "text": [
      "The X input shape is: (97200, 1)\n",
      "The y label shape is: (97200,)\n",
      "The length of the X and y arrays are the same: True\n"
     ]
    }
   ],
   "source": [
    "X_train_shape = X_train.shape\n",
    "y_train_shape = y_train.shape\n",
    "X_length = len(X)\n",
    "y_length = len(y)\n",
    "print(\"The X input shape is:\", X_train_shape)\n",
    "print(\"The y label shape is:\", y_train_shape)\n",
    "check_lengths = X_length == y_length\n",
    "print(f\"The length of the X and y arrays are the same: {check_lengths}\")"
   ]
  },
  {
   "cell_type": "code",
   "execution_count": 36,
   "id": "daaffb8b",
   "metadata": {},
   "outputs": [
    {
     "name": "stdout",
     "output_type": "stream",
     "text": [
      "<class 'pandas.core.frame.DataFrame'>\n",
      "<class 'numpy.ndarray'>\n"
     ]
    }
   ],
   "source": [
    "# We can print the types again, expecting a DataFrame and a NumPy array\n",
    "print(type(X_train))\n",
    "print(type(y_train))"
   ]
  },
  {
   "cell_type": "code",
   "execution_count": 37,
   "id": "6d9fe6d1",
   "metadata": {},
   "outputs": [],
   "source": [
    "# I'm copying the original input data, prior to performing text embedding, for use later on\n",
    "X_train_original_data = X_train.copy()\n",
    "X_val_original_data = X_val.copy()\n",
    "X_test_original_data = X_test.copy()"
   ]
  },
  {
   "cell_type": "code",
   "execution_count": 70,
   "id": "7d0838eb",
   "metadata": {},
   "outputs": [],
   "source": [
    "# Here, we set the hyperparameters\n",
    "max_features = 1500\n",
    "embedding_size = 8"
   ]
  },
  {
   "cell_type": "code",
   "execution_count": 74,
   "id": "56051ad9",
   "metadata": {},
   "outputs": [],
   "source": [
    "# The fixed-length maxlen is modified to (dynamic calculation) :\n",
    "text_lengths = df['Content'].apply(lambda x: len(x.split()))\n",
    "maxlen = int(np.percentile(text_lengths, 95))  # 覆盖95%样本"
   ]
  },
  {
   "cell_type": "code",
   "execution_count": 75,
   "id": "fea0c1ca",
   "metadata": {},
   "outputs": [
    {
     "data": {
      "image/png": "[encoded data removed]",
      "text/plain": [
       "<Figure size 640x480 with 1 Axes>"
      ]
     },
     "metadata": {},
     "output_type": "display_data"
    }
   ],
   "source": [
    "plt.hist(text_lengths, bins=50)\n",
    "plt.axvline(maxlen, color='r', linestyle='--')\n",
    "plt.title(\"Text Length Distribution\")\n",
    "plt.show()"
   ]
  }
 ],
 "metadata": {
  "kernelspec": {
   "display_name": "Python 3",
   "language": "python",
   "name": "python3"
  },
  "language_info": {
   "codemirror_mode": {
    "name": "ipython",
    "version": 3
   },
   "file_extension": ".py",
   "mimetype": "text/x-python",
   "name": "python",
   "nbconvert_exporter": "python",
   "pygments_lexer": "ipython3",
   "version": "3.10.1"
  }
 },
 "nbformat": 4,
 "nbformat_minor": 5
}
